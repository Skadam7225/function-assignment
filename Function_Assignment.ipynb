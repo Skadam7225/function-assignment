{
  "nbformat": 4,
  "nbformat_minor": 0,
  "metadata": {
    "colab": {
      "provenance": []
    },
    "kernelspec": {
      "name": "python3",
      "display_name": "Python 3"
    },
    "language_info": {
      "name": "python"
    }
  },
  "cells": [
    {
      "cell_type": "markdown",
      "source": [
        "#Function Assignment\n",
        "1. What is the difference between a function and a method in Python?\n",
        "- A function is a block of code that performs a task and can exist      independently.\n",
        " A method is a function that is defined inside a class and works with objects.\n",
        " Functions are called directly by their name, while methods are called using an object (e.g., object.method()).\n",
        " Methods usually take self as their first argument to access the object’s data.All methods are functions, but not all functions are methods.\n",
        "\n",
        "2.Explain the concept of function arguments and parameters in Python?\n",
        "- In Python, parameters are the variables defined inside the function definition, while arguments are the actual values you pass to the function when calling it. Parameters act like placeholders, and arguments provide the real data.\n",
        "There are different types of arguments in Python. Positional arguments are matched by their position. Keyword arguments are passed using parameter names. Default arguments provide a fallback value if no argument is given. Variable-length arguments using *args and **kwargs allow passing multiple values.\n",
        "In short, parameters belong to the function definition, and arguments belong to the function call.\n",
        "\n",
        "3. What are the different ways to define and call a function in Python?\n",
        "- In Python, functions are mainly defined using the def keyword, where you specify the function name, parameters, and body. They can also be created as anonymous functions using lambda. While defining, you can use normal parameters, default parameters,( *args for variable positional arguments, and **kwargs)for variable keyword arguments.\n",
        "Functions can be called in different ways. They can be called with positional arguments by passing values in order, with keyword arguments by specifying parameter names, with default arguments when values are not provided, and with variable-length arguments using *args and **kwargs to pass multiple values\n",
        "\n",
        "4. What is the purpose of the `return` statement in a Python function?\n",
        "- The return statement in a Python function is used to send a value back from the function to the caller. It allows the function to give an output that can be stored in a variable, used in an expression, or passed to another function.\n",
        "If no return statement is used, the function automatically returns None.\n",
        "In short, return makes a function produce a result instead of just performing an action.\n",
        "\n",
        "5. What are iterators in Python and how do they differ from iterables?\n",
        "-  In Python, an iterable is any object that can be looped over, such   as lists, tuples, strings, or sets. These objects use the __iter__() method to return an iterator.\n",
        " An iterator is an object that represents a stream of data. It remembers its position during iteration and provides elements one at a time using the __next__() method. When no more elements are left, it raises a StopIteration exception.\n",
        " The key difference is that iterables are collections you can loop through, while iterators are the actual objects that perform the iteration by keeping track of where you are.\n",
        "\n",
        "6. Explain the concept of generators in Python and how they are defined.\n",
        "- In Python, generators are special functions that allow you to create iterators in a simple and memory-efficient way. Instead of returning all values at once, a generator produces values one at a time when needed.A generator is defined like a normal function, but it uses the yield statement instead of return. Each time the generator function is called, execution pauses at yield and resumes from there on the next call.\n",
        "\n",
        "7. What are the advantages of using generators over regular functions?\n",
        "-  Generators in Python are more memory efficient than regular functions because they produce values one at a time instead of storing the entire sequence in memory. They use lazy evaluation, meaning values are generated only when needed, which makes them suitable for large datasets or even infinite sequences. Generators also improve performance since values are yielded on demand, and they help write cleaner code by avoiding the need to manually implement iteration methods. In short, they are ideal for handling data streams efficiently\n",
        "\n",
        "8. What is a lambda function in Python and when is it typically used?\n",
        "- A lambda function in Python is a small, anonymous function defined using the lambda keyword instead of def. It can take any number of arguments but contains only a single expression, and the result of that expression is automatically returned.\n",
        "It is typically used when you need a short, throwaway function without formally defining it using def. Common use cases include situations where functions are required temporarily, such as in map(), filter(), reduce(), or for sorting with custom keys\n",
        "\n",
        "9. Explain the purpose and usage of the `map()` function in Python.\n",
        "- The map() function in Python is used to apply a function to each item of an iterable (like a list, tuple, or string) and return a new iterator with the results. Its purpose is to simplify the process of transforming data without writing explicit loops.\n",
        "\n",
        "The general syntax is:\n",
        "\n",
        "map(function, iterable)\n",
        "\n",
        "10. What is the difference between `map()`, `reduce()`, and `filter()` functions in Python?\n",
        "- map() applies a function to each element of an iterable and returns a new iterator with the transformed results. For example, doubling each number in a list can be done with map(lambda x: x*2, numbers).\n",
        "filter() applies a function that returns True or False to each element and keeps only those elements for which the function returns True. For example, keeping only even numbers can be done with filter(lambda x: x%2==0, numbers).\n",
        "reduce() applies a function cumulatively to the elements of an iterable, reducing it to a single value. For example, finding the sum of a list can be done with reduce(lambda x, y: x+y, numbers).\n",
        "In short, map() transforms, filter() selects, and reduce() aggregates.\n",
        "\n",
        "\n",
        "\n",
        "11. Using pen & Paper write the internal mechanism for sum operation using  reduce function on this given\n",
        "list:[47,11,42,13];\n",
        "- rom functools import reduce\n",
        "reduce(lambda x, y: x + y, [47, 11, 42, 13])\n",
        "Internal mechanism (step by step like pen & paper):\n",
        "First step: take the first two elements\n",
        "\n",
        "47 + 11 = 58\n",
        "Second step: take the result (58) and the next element (42)\n",
        "\n",
        "\n",
        "58 + 42 = 100\n",
        "Third step: take the result (100) and the next element (13)\n",
        "\n",
        "100 + 13 = 113\n",
        "Final result:\n",
        "\n",
        "\n",
        "113\n",
        "So, reduce() works by taking two elements at a time, applying the function, and carrying the result forward until only one value remains.\n",
        "\n",
        "👉 Final Answer: The sum is 113."
      ],
      "metadata": {
        "id": "wCIATjVqE7u6"
      }
    },
    {
      "cell_type": "code",
      "source": [
        "# 1.Write a Python function that takes a list of numbers as input and returns the sum of all even numbers in the list\n",
        "def sum_even_numbers(numbers):\n",
        "    sum = 0\n",
        "    for num in numbers:\n",
        "        if num % 2 == 0:\n",
        "            sum += num\n",
        "    return sum\n",
        "sum_even_numbers([1,2,3,4,5,6,7,8,9])\n",
        "\n"
      ],
      "metadata": {
        "id": "udKu7W9lFo2y",
        "colab": {
          "base_uri": "https://localhost:8080/"
        },
        "outputId": "54b25cc6-14b9-40ab-9568-56761cdb3b77"
      },
      "execution_count": null,
      "outputs": [
        {
          "output_type": "execute_result",
          "data": {
            "text/plain": [
              "20"
            ]
          },
          "metadata": {},
          "execution_count": 3
        }
      ]
    },
    {
      "cell_type": "code",
      "source": [
        "# 2.Create a Python function that accepts a string and returns the reverse of that string.\n",
        "def reverse_string(str1):\n",
        "  return str1[::-1]\n",
        "\n",
        "\n",
        "a=reverse_string(\"sumit\")\n",
        "print(a)\n"
      ],
      "metadata": {
        "id": "F1BYaBjyF3WV",
        "colab": {
          "base_uri": "https://localhost:8080/"
        },
        "outputId": "3c3d6ff9-fc34-4ad1-d7d4-9fa034895059"
      },
      "execution_count": null,
      "outputs": [
        {
          "output_type": "stream",
          "name": "stdout",
          "text": [
            "timus\n"
          ]
        }
      ]
    },
    {
      "cell_type": "code",
      "source": [
        "# 3.Implement a Python function that takes a list of integers and returns a new list containing the squares of each number.\n",
        "def list_func(input_list):\n",
        "  list2=[]\n",
        "  for i in input_list:\n",
        "    list2.append(i**2)\n",
        "  return list2\n",
        "\n",
        "print(list_func([1,2,3,4,5]))"
      ],
      "metadata": {
        "id": "JV1O-P2WF9b0",
        "colab": {
          "base_uri": "https://localhost:8080/"
        },
        "outputId": "0421ac0b-9f04-419e-833f-733d79feb395"
      },
      "execution_count": null,
      "outputs": [
        {
          "output_type": "stream",
          "name": "stdout",
          "text": [
            "[1, 4, 9, 16, 25]\n"
          ]
        }
      ]
    },
    {
      "cell_type": "code",
      "source": [
        "# 4.Write a Python function that checks if a given number is prime or not from 1 to 200.\n",
        "def is_prime(num):\n",
        "  if num < 2:\n",
        "    return False\n",
        "  for i in range(2, int(num**0.5) + 1):\n",
        "    if num % i == 0:\n",
        "      return False\n",
        "  return True\n",
        "\n"
      ],
      "metadata": {
        "id": "aN01o67HF-hK"
      },
      "execution_count": null,
      "outputs": []
    },
    {
      "cell_type": "code",
      "source": [
        "# 5.Create an iterator class in Python that generates the Fibonacci sequence up to a specified number of terms.\n",
        "\n",
        "class FibonacciIterator:\n",
        "    \"\"\"\n",
        "    An iterator that generates the Fibonacci sequence up to a specified number of terms.\n",
        "    \"\"\"\n",
        "    def __init__(self, num_terms):\n",
        "        self.num_terms = num_terms\n",
        "        self.current_term = 0\n",
        "        self.a = 0\n",
        "        self.b = 1\n",
        "\n",
        "    def __iter__(self):\n",
        "        return self\n",
        "\n",
        "    def __next__(self):\n",
        "        if self.current_term < self.num_terms:\n",
        "            if self.current_term == 0:\n",
        "                self.current_term += 1\n",
        "                return self.a\n",
        "            elif self.current_term == 1:\n",
        "                self.current_term += 1\n",
        "                return self.b\n",
        "            else:\n",
        "                next_fib = self.a + self.b\n",
        "                self.a = self.b\n",
        "                self.b = next_fib\n",
        "                self.current_term += 1\n",
        "                return next_fib\n",
        "        else:\n",
        "            raise StopIteration\n",
        "\n",
        "\n",
        "fib_iterator = FibonacciIterator(10)\n",
        "for number in fib_iterator:\n",
        "    print(number)"
      ],
      "metadata": {
        "id": "cxRGj8hrGJKJ"
      },
      "execution_count": null,
      "outputs": []
    },
    {
      "cell_type": "code",
      "source": [
        "# 6 .Write a generator function in Python that yields the powers of 2 up to a given exponent.\n",
        "\n",
        "def powers_of_two(exponent):\n",
        "  \"\"\"\n",
        "  Generates powers of 2 up to a given exponent.\n",
        "\n",
        "  Args:\n",
        "    exponent: The maximum exponent for the powers of 2.\n",
        "\n",
        "  Yields:\n",
        "    The powers of 2 from 2^0 up to 2^exponent.\n",
        "  \"\"\"\n",
        "  for i in range(exponent + 1):\n",
        "    yield 2**i\n",
        "\n",
        "# Example usage:\n",
        "for power in powers_of_two(4):\n",
        "  print(power)"
      ],
      "metadata": {
        "id": "7jxWDmZHGPYw",
        "colab": {
          "base_uri": "https://localhost:8080/"
        },
        "outputId": "2a17f6a7-66c6-4e05-8572-f16b9d9d6bdf"
      },
      "execution_count": null,
      "outputs": [
        {
          "output_type": "stream",
          "name": "stdout",
          "text": [
            "1\n",
            "2\n",
            "4\n",
            "8\n",
            "16\n"
          ]
        }
      ]
    },
    {
      "cell_type": "code",
      "source": [
        "# 7. Implement a generator function that reads a file line by line and yields each line as a string.\n",
        "\n",
        "def read_file_line_by_line(filename):\n",
        "  \"\"\"\n",
        "  A generator function that reads a file line by line.\n",
        "\n",
        "  Args:\n",
        "    filename: The name of the file to read.\n",
        "\n",
        "  Yields:\n",
        "    Each line of the file as a string.\n",
        "  \"\"\"\n",
        "  with open(filename, 'r') as f:\n",
        "    for line in f:\n",
        "      yield line\n",
        "\n",
        "# Example usage:\n",
        "# Create a dummy file for demonstration\n",
        "with open('my_file.txt', 'w') as f:\n",
        "    f.write(\"This is the first line.\\n\")\n",
        "    f.write(\"This is the second line.\\n\")\n",
        "    f.write(\"And this is the third line.\\n\")\n",
        "\n",
        "# Use the generator to read the file line by line\n",
        "for line in read_file_line_by_line('my_file.txt'):\n",
        "  print(line, end='') # Use end='' to avoid extra newlines"
      ],
      "metadata": {
        "id": "oBHnC4eFGYAl",
        "colab": {
          "base_uri": "https://localhost:8080/"
        },
        "outputId": "abc3e714-c374-4676-eb2a-92109b58dd2c"
      },
      "execution_count": 1,
      "outputs": [
        {
          "output_type": "stream",
          "name": "stdout",
          "text": [
            "This is the first line.\n",
            "This is the second line.\n",
            "And this is the third line.\n"
          ]
        }
      ]
    },
    {
      "cell_type": "code",
      "source": [
        "# 8.Use a lambda function in Python to sort a list of tuples based on the second element of each tuple.\n",
        "\n",
        "my_list = [(1, 'c'), (2, 'a'), (3, 'b')]\n",
        "sorted_list = sorted(my_list, key=lambda item: item[1])\n",
        "\n",
        "print(sorted_list)"
      ],
      "metadata": {
        "id": "0nVShRhtGfBc",
        "colab": {
          "base_uri": "https://localhost:8080/"
        },
        "outputId": "b5349612-ab16-4a5f-9edd-0345e5714a08"
      },
      "execution_count": 2,
      "outputs": [
        {
          "output_type": "stream",
          "name": "stdout",
          "text": [
            "[(2, 'a'), (3, 'b'), (1, 'c')]\n"
          ]
        }
      ]
    },
    {
      "cell_type": "code",
      "source": [
        "# 9.Write a Python program that uses `map()` to convert a list of temperatures from Celsius to Fahrenheit.\n",
        "\n",
        "def celsius_to_fahrenheit(celsius):\n",
        "  return (celsius * 9/5) + 32\n",
        "\n",
        "celsius_temperatures = [0, 10, 20, 30, 40]\n",
        "fahrenheit_temperatures = list(map(celsius_to_fahrenheit, celsius_temperatures))\n",
        "\n",
        "print(fahrenheit_temperatures)"
      ],
      "metadata": {
        "id": "3lHewiZzGkv1",
        "colab": {
          "base_uri": "https://localhost:8080/"
        },
        "outputId": "95760bf8-4b0e-412e-94e6-f404546b5e5d"
      },
      "execution_count": 3,
      "outputs": [
        {
          "output_type": "stream",
          "name": "stdout",
          "text": [
            "[32.0, 50.0, 68.0, 86.0, 104.0]\n"
          ]
        }
      ]
    },
    {
      "cell_type": "code",
      "source": [
        "# 10.Create a Python program that uses `filter()` to remove all the vowels from a given string.\n",
        "\n",
        "def remove_vowels(text):\n",
        "  vowels = \"aeiouAEIOU\"\n",
        "  return \"\".join(filter(lambda x: x not in vowels, text))\n",
        "\n",
        "# Example usage:\n",
        "my_string = \"Hello World\"\n",
        "string_without_vowels = remove_vowels(my_string)\n",
        "print(string_without_vowels)"
      ],
      "metadata": {
        "id": "cQvgHcztGqPl",
        "colab": {
          "base_uri": "https://localhost:8080/"
        },
        "outputId": "d969e1c5-48c6-422b-fc96-03bdd1012eab"
      },
      "execution_count": 4,
      "outputs": [
        {
          "output_type": "stream",
          "name": "stdout",
          "text": [
            "Hll Wrld\n"
          ]
        }
      ]
    },
    {
      "cell_type": "code",
      "source": [
        "# 11. Imagine an accounting routine used in a book shop. It works on a list with sublists, which look like this:\n",
        "\"\"\"Write a Python program, which returns a list with 2-tuples. Each tuple consists of the order number and the\n",
        "product of the price per item and the quantity. The product should be increased by 10,- € if the value of the\n",
        "order is smaller than 100,00 €.\n",
        "Write a Python program using lambda and map.\n",
        "\n",
        "\"\"\"\n",
        "orders = [ [\"34587\", \"Learning Python, Mark Lutz\", 4, 40.95],\n",
        "           [\"98762\", \"Programming Python, Mark Lutz\", 5, 56.80],\n",
        "           [\"77226\", \"Head First Python, Paul Barry\", 3, 32.95],\n",
        "           [\"88112\", \"Einführung in Python3, Bernd Klein\", 3, 24.99]]\n",
        "\n",
        "# Use map and lambda to calculate the order value and apply the bonus\n",
        "order_values = list(map(lambda x: (x[0], x[2] * x[3] + (10 if x[2] * x[3] < 100 else 0)), orders))\n",
        "\n",
        "print(order_values)"
      ],
      "metadata": {
        "id": "v5dC1ZYbG0wt",
        "colab": {
          "base_uri": "https://localhost:8080/"
        },
        "outputId": "d3480f05-7533-4132-818c-13b4680d8ddd"
      },
      "execution_count": 5,
      "outputs": [
        {
          "output_type": "stream",
          "name": "stdout",
          "text": [
            "[('34587', 163.8), ('98762', 284.0), ('77226', 108.85000000000001), ('88112', 84.97)]\n"
          ]
        }
      ]
    },
    {
      "cell_type": "code",
      "metadata": {
        "id": "b8011c3f"
      },
      "source": [
        "\n",
        "\n"
      ],
      "execution_count": null,
      "outputs": []
    },
    {
      "cell_type": "code",
      "metadata": {
        "colab": {
          "base_uri": "https://localhost:8080/"
        },
        "id": "92a17ca5",
        "outputId": "fbbf2df3-e76f-46d9-c1ae-41d59b2851af"
      },
      "source": [
        "# 8.Use a lambda function in Python to sort a list of tuples based on the second element of each tuple.\n",
        "\n",
        "my_list = [(1, 'c'), (2, 'a'), (3, 'b')]\n",
        "sorted_list = sorted(my_list, key=lambda item: item[1])\n",
        "\n",
        "print(sorted_list)"
      ],
      "execution_count": null,
      "outputs": [
        {
          "output_type": "stream",
          "name": "stdout",
          "text": [
            "[(2, 'a'), (3, 'b'), (1, 'c')]\n"
          ]
        }
      ]
    }
  ]
}